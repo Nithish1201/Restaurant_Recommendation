{
 "cells": [
  {
   "cell_type": "code",
   "execution_count": null,
   "id": "54dd935f",
   "metadata": {},
   "outputs": [],
   "source": [
    "import pandas as pd\n",
    "import numpy as np\n",
    "import matplotlib.pyplot as plt\n",
    "import seaborn as sns"
   ]
  },
  {
   "cell_type": "code",
   "execution_count": null,
   "id": "f103e5a5",
   "metadata": {},
   "outputs": [],
   "source": [
    "data = pd.read_csv('cusine_update.csv')\n",
    "pd.set_option('display.max_rows', None)\n",
    "data"
   ]
  },
  {
   "cell_type": "code",
   "execution_count": null,
   "id": "445c8757",
   "metadata": {},
   "outputs": [],
   "source": [
    "usr_choice = ['Pizza', 'Cafe', 'Beverages', 'Desserts', 'Fast Food']"
   ]
  },
  {
   "cell_type": "code",
   "execution_count": null,
   "id": "55befe8d",
   "metadata": {},
   "outputs": [],
   "source": [
    "data['Cuisine'] = data['Cuisine'].apply(eval)"
   ]
  },
  {
   "cell_type": "code",
   "execution_count": null,
   "id": "9cec0c59",
   "metadata": {},
   "outputs": [],
   "source": [
    "lst = []\n",
    "for i in data.index:\n",
    "    for j in usr_choice:\n",
    "        if j in data['Cuisine'][i]:\n",
    "            lst.append(data['Name of Restaurant'][i])"
   ]
  },
  {
   "cell_type": "code",
   "execution_count": null,
   "id": "965653a5",
   "metadata": {},
   "outputs": [],
   "source": [
    "len(lst)"
   ]
  },
  {
   "cell_type": "code",
   "execution_count": null,
   "id": "fa52bd83",
   "metadata": {},
   "outputs": [],
   "source": [
    "lst"
   ]
  },
  {
   "cell_type": "code",
   "execution_count": null,
   "id": "8944a96e",
   "metadata": {},
   "outputs": [],
   "source": [
    "count = 0\n",
    "count1 = 0\n",
    "countlist = []\n",
    "namelist = []\n",
    "for i in range(1,len(lst)):\n",
    "    if i <= len(lst)-2:\n",
    "        if lst[i] == lst[i-1]:\n",
    "            count1 += 1 \n",
    "        else:\n",
    "            namelist.append(lst[i-1])\n",
    "            countlist.append(count1+1)\n",
    "            count1 = 0\n",
    "    else:\n",
    "        if lst[i] == lst[i-1]:\n",
    "            count1 += 1 \n",
    "            namelist.append(lst[i-1])\n",
    "            countlist.append(count1)\n",
    "            count1 = 0"
   ]
  },
  {
   "cell_type": "code",
   "execution_count": null,
   "id": "4aca44fd",
   "metadata": {},
   "outputs": [],
   "source": [
    "len(namelist)"
   ]
  },
  {
   "cell_type": "code",
   "execution_count": null,
   "id": "bc7d7792",
   "metadata": {},
   "outputs": [],
   "source": [
    "len(countlist)"
   ]
  },
  {
   "cell_type": "code",
   "execution_count": null,
   "id": "001381ed",
   "metadata": {},
   "outputs": [],
   "source": [
    "df = data[data['Name of Restaurant'].isin(namelist)]\n",
    "df['count'] = countlist\n",
    "df.sort_values(by=['count', 'Dining Rating', 'Dining Rating Count'],ascending=False,inplace=True)\n",
    "df.reset_index(drop = True,inplace=True)\n",
    "df.drop(['Cuisine'],axis = 1, inplace = True)\n",
    "df.shape"
   ]
  },
  {
   "cell_type": "code",
   "execution_count": null,
   "id": "87d05935",
   "metadata": {},
   "outputs": [],
   "source": [
    "df.sort_values(by=['Price for 2', 'Dining Rating', 'Dining Rating Count'], ascending=True,\n",
    "                       inplace=True)"
   ]
  }
 ],
 "metadata": {
  "kernelspec": {
   "display_name": "Python 3",
   "language": "python",
   "name": "python3"
  },
  "language_info": {
   "codemirror_mode": {
    "name": "ipython",
    "version": 3
   },
   "file_extension": ".py",
   "mimetype": "text/x-python",
   "name": "python",
   "nbconvert_exporter": "python",
   "pygments_lexer": "ipython3",
   "version": "3.9.5"
  }
 },
 "nbformat": 4,
 "nbformat_minor": 5
}
